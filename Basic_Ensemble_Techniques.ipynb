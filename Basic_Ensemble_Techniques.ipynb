{
  "nbformat": 4,
  "nbformat_minor": 0,
  "metadata": {
    "colab": {
      "name": "Basic_Ensemble_Techniques.ipynb",
      "provenance": [],
      "collapsed_sections": [],
      "mount_file_id": "1XSmEcLP1uDA1UCLHpRRzvS4dAZMUyqKL",
      "authorship_tag": "ABX9TyO6ozWSFLfE9Qo+17COIK89",
      "include_colab_link": true
    },
    "kernelspec": {
      "name": "python3",
      "display_name": "Python 3"
    },
    "language_info": {
      "name": "python"
    }
  },
  "cells": [
    {
      "cell_type": "markdown",
      "metadata": {
        "id": "view-in-github",
        "colab_type": "text"
      },
      "source": [
        "<a href=\"https://colab.research.google.com/github/Manojgharge07/Machine_Learning_Data_Science/blob/main/Basic_Ensemble_Techniques.ipynb\" target=\"_parent\"><img src=\"https://colab.research.google.com/assets/colab-badge.svg\" alt=\"Open In Colab\"/></a>"
      ]
    },
    {
      "cell_type": "code",
      "execution_count": 1,
      "metadata": {
        "id": "VVir6LbB72EC"
      },
      "outputs": [],
      "source": [
        "# IMPORTS\n",
        "import pandas as pd\n",
        "import numpy as np\n",
        "import seaborn as sns\n",
        "import matplotlib.pyplot as plt\n",
        "from sklearn.tree import DecisionTreeClassifier\n",
        "from sklearn.neighbors import KNeighborsClassifier\n",
        "from sklearn.linear_model import LogisticRegression\n",
        "from sklearn.naive_bayes import GaussianNB\n",
        "from sklearn.ensemble import VotingClassifier\n",
        "from sklearn.model_selection import train_test_split\n",
        "import statistics as st\n",
        "import warnings\n",
        "warnings.filterwarnings('ignore')\n",
        "from sklearn.metrics import accuracy_score\n",
        "from sklearn.metrics import classification_report\n",
        "from sklearn import tree\n",
        "from sklearn.metrics import accuracy_score\n",
        "from sklearn.metrics import confusion_matrix\n",
        "\n"
      ]
    },
    {
      "cell_type": "code",
      "source": [
        "# SPLITTING THE DATASET\n",
        "df = pd.read_csv('/content/drive/MyDrive/All CSV files/Wheat Seeds.csv')"
      ],
      "metadata": {
        "id": "X6qdgPSX8A_J"
      },
      "execution_count": 2,
      "outputs": []
    },
    {
      "cell_type": "code",
      "source": [
        "df"
      ],
      "metadata": {
        "colab": {
          "base_uri": "https://localhost:8080/",
          "height": 424
        },
        "id": "EdEeoKhi8bK0",
        "outputId": "6369a064-ddde-4662-cb93-f074a4b55c8f"
      },
      "execution_count": 3,
      "outputs": [
        {
          "output_type": "execute_result",
          "data": {
            "text/plain": [
              "      Area  Perimeter  Compactness  Length of kernel  Width of kernel  \\\n",
              "0    15.26      14.84       0.8710             5.763            3.312   \n",
              "1    14.88      14.57       0.8811             5.554            3.333   \n",
              "2    14.29      14.09       0.9050             5.291            3.337   \n",
              "3    13.84      13.94       0.8955             5.324            3.379   \n",
              "4    16.14      14.99       0.9034             5.658            3.562   \n",
              "..     ...        ...          ...               ...              ...   \n",
              "205  12.19      13.20       0.8783             5.137            2.981   \n",
              "206  11.23      12.88       0.8511             5.140            2.795   \n",
              "207  13.20      13.66       0.8883             5.236            3.232   \n",
              "208  11.84      13.21       0.8521             5.175            2.836   \n",
              "209  12.30      13.34       0.8684             5.243            2.974   \n",
              "\n",
              "     Asymmetry coefficient  Length of kernel groove  Class (1, 2, 3)  \n",
              "0                    2.221                    5.220                1  \n",
              "1                    1.018                    4.956                1  \n",
              "2                    2.699                    4.825                1  \n",
              "3                    2.259                    4.805                1  \n",
              "4                    1.355                    5.175                1  \n",
              "..                     ...                      ...              ...  \n",
              "205                  3.631                    4.870                3  \n",
              "206                  4.325                    5.003                3  \n",
              "207                  8.315                    5.056                3  \n",
              "208                  3.598                    5.044                3  \n",
              "209                  5.637                    5.063                3  \n",
              "\n",
              "[210 rows x 8 columns]"
            ],
            "text/html": [
              "\n",
              "  <div id=\"df-9b9af642-2933-4d7d-9e85-d7383f0c7968\">\n",
              "    <div class=\"colab-df-container\">\n",
              "      <div>\n",
              "<style scoped>\n",
              "    .dataframe tbody tr th:only-of-type {\n",
              "        vertical-align: middle;\n",
              "    }\n",
              "\n",
              "    .dataframe tbody tr th {\n",
              "        vertical-align: top;\n",
              "    }\n",
              "\n",
              "    .dataframe thead th {\n",
              "        text-align: right;\n",
              "    }\n",
              "</style>\n",
              "<table border=\"1\" class=\"dataframe\">\n",
              "  <thead>\n",
              "    <tr style=\"text-align: right;\">\n",
              "      <th></th>\n",
              "      <th>Area</th>\n",
              "      <th>Perimeter</th>\n",
              "      <th>Compactness</th>\n",
              "      <th>Length of kernel</th>\n",
              "      <th>Width of kernel</th>\n",
              "      <th>Asymmetry coefficient</th>\n",
              "      <th>Length of kernel groove</th>\n",
              "      <th>Class (1, 2, 3)</th>\n",
              "    </tr>\n",
              "  </thead>\n",
              "  <tbody>\n",
              "    <tr>\n",
              "      <th>0</th>\n",
              "      <td>15.26</td>\n",
              "      <td>14.84</td>\n",
              "      <td>0.8710</td>\n",
              "      <td>5.763</td>\n",
              "      <td>3.312</td>\n",
              "      <td>2.221</td>\n",
              "      <td>5.220</td>\n",
              "      <td>1</td>\n",
              "    </tr>\n",
              "    <tr>\n",
              "      <th>1</th>\n",
              "      <td>14.88</td>\n",
              "      <td>14.57</td>\n",
              "      <td>0.8811</td>\n",
              "      <td>5.554</td>\n",
              "      <td>3.333</td>\n",
              "      <td>1.018</td>\n",
              "      <td>4.956</td>\n",
              "      <td>1</td>\n",
              "    </tr>\n",
              "    <tr>\n",
              "      <th>2</th>\n",
              "      <td>14.29</td>\n",
              "      <td>14.09</td>\n",
              "      <td>0.9050</td>\n",
              "      <td>5.291</td>\n",
              "      <td>3.337</td>\n",
              "      <td>2.699</td>\n",
              "      <td>4.825</td>\n",
              "      <td>1</td>\n",
              "    </tr>\n",
              "    <tr>\n",
              "      <th>3</th>\n",
              "      <td>13.84</td>\n",
              "      <td>13.94</td>\n",
              "      <td>0.8955</td>\n",
              "      <td>5.324</td>\n",
              "      <td>3.379</td>\n",
              "      <td>2.259</td>\n",
              "      <td>4.805</td>\n",
              "      <td>1</td>\n",
              "    </tr>\n",
              "    <tr>\n",
              "      <th>4</th>\n",
              "      <td>16.14</td>\n",
              "      <td>14.99</td>\n",
              "      <td>0.9034</td>\n",
              "      <td>5.658</td>\n",
              "      <td>3.562</td>\n",
              "      <td>1.355</td>\n",
              "      <td>5.175</td>\n",
              "      <td>1</td>\n",
              "    </tr>\n",
              "    <tr>\n",
              "      <th>...</th>\n",
              "      <td>...</td>\n",
              "      <td>...</td>\n",
              "      <td>...</td>\n",
              "      <td>...</td>\n",
              "      <td>...</td>\n",
              "      <td>...</td>\n",
              "      <td>...</td>\n",
              "      <td>...</td>\n",
              "    </tr>\n",
              "    <tr>\n",
              "      <th>205</th>\n",
              "      <td>12.19</td>\n",
              "      <td>13.20</td>\n",
              "      <td>0.8783</td>\n",
              "      <td>5.137</td>\n",
              "      <td>2.981</td>\n",
              "      <td>3.631</td>\n",
              "      <td>4.870</td>\n",
              "      <td>3</td>\n",
              "    </tr>\n",
              "    <tr>\n",
              "      <th>206</th>\n",
              "      <td>11.23</td>\n",
              "      <td>12.88</td>\n",
              "      <td>0.8511</td>\n",
              "      <td>5.140</td>\n",
              "      <td>2.795</td>\n",
              "      <td>4.325</td>\n",
              "      <td>5.003</td>\n",
              "      <td>3</td>\n",
              "    </tr>\n",
              "    <tr>\n",
              "      <th>207</th>\n",
              "      <td>13.20</td>\n",
              "      <td>13.66</td>\n",
              "      <td>0.8883</td>\n",
              "      <td>5.236</td>\n",
              "      <td>3.232</td>\n",
              "      <td>8.315</td>\n",
              "      <td>5.056</td>\n",
              "      <td>3</td>\n",
              "    </tr>\n",
              "    <tr>\n",
              "      <th>208</th>\n",
              "      <td>11.84</td>\n",
              "      <td>13.21</td>\n",
              "      <td>0.8521</td>\n",
              "      <td>5.175</td>\n",
              "      <td>2.836</td>\n",
              "      <td>3.598</td>\n",
              "      <td>5.044</td>\n",
              "      <td>3</td>\n",
              "    </tr>\n",
              "    <tr>\n",
              "      <th>209</th>\n",
              "      <td>12.30</td>\n",
              "      <td>13.34</td>\n",
              "      <td>0.8684</td>\n",
              "      <td>5.243</td>\n",
              "      <td>2.974</td>\n",
              "      <td>5.637</td>\n",
              "      <td>5.063</td>\n",
              "      <td>3</td>\n",
              "    </tr>\n",
              "  </tbody>\n",
              "</table>\n",
              "<p>210 rows × 8 columns</p>\n",
              "</div>\n",
              "      <button class=\"colab-df-convert\" onclick=\"convertToInteractive('df-9b9af642-2933-4d7d-9e85-d7383f0c7968')\"\n",
              "              title=\"Convert this dataframe to an interactive table.\"\n",
              "              style=\"display:none;\">\n",
              "        \n",
              "  <svg xmlns=\"http://www.w3.org/2000/svg\" height=\"24px\"viewBox=\"0 0 24 24\"\n",
              "       width=\"24px\">\n",
              "    <path d=\"M0 0h24v24H0V0z\" fill=\"none\"/>\n",
              "    <path d=\"M18.56 5.44l.94 2.06.94-2.06 2.06-.94-2.06-.94-.94-2.06-.94 2.06-2.06.94zm-11 1L8.5 8.5l.94-2.06 2.06-.94-2.06-.94L8.5 2.5l-.94 2.06-2.06.94zm10 10l.94 2.06.94-2.06 2.06-.94-2.06-.94-.94-2.06-.94 2.06-2.06.94z\"/><path d=\"M17.41 7.96l-1.37-1.37c-.4-.4-.92-.59-1.43-.59-.52 0-1.04.2-1.43.59L10.3 9.45l-7.72 7.72c-.78.78-.78 2.05 0 2.83L4 21.41c.39.39.9.59 1.41.59.51 0 1.02-.2 1.41-.59l7.78-7.78 2.81-2.81c.8-.78.8-2.07 0-2.86zM5.41 20L4 18.59l7.72-7.72 1.47 1.35L5.41 20z\"/>\n",
              "  </svg>\n",
              "      </button>\n",
              "      \n",
              "  <style>\n",
              "    .colab-df-container {\n",
              "      display:flex;\n",
              "      flex-wrap:wrap;\n",
              "      gap: 12px;\n",
              "    }\n",
              "\n",
              "    .colab-df-convert {\n",
              "      background-color: #E8F0FE;\n",
              "      border: none;\n",
              "      border-radius: 50%;\n",
              "      cursor: pointer;\n",
              "      display: none;\n",
              "      fill: #1967D2;\n",
              "      height: 32px;\n",
              "      padding: 0 0 0 0;\n",
              "      width: 32px;\n",
              "    }\n",
              "\n",
              "    .colab-df-convert:hover {\n",
              "      background-color: #E2EBFA;\n",
              "      box-shadow: 0px 1px 2px rgba(60, 64, 67, 0.3), 0px 1px 3px 1px rgba(60, 64, 67, 0.15);\n",
              "      fill: #174EA6;\n",
              "    }\n",
              "\n",
              "    [theme=dark] .colab-df-convert {\n",
              "      background-color: #3B4455;\n",
              "      fill: #D2E3FC;\n",
              "    }\n",
              "\n",
              "    [theme=dark] .colab-df-convert:hover {\n",
              "      background-color: #434B5C;\n",
              "      box-shadow: 0px 1px 3px 1px rgba(0, 0, 0, 0.15);\n",
              "      filter: drop-shadow(0px 1px 2px rgba(0, 0, 0, 0.3));\n",
              "      fill: #FFFFFF;\n",
              "    }\n",
              "  </style>\n",
              "\n",
              "      <script>\n",
              "        const buttonEl =\n",
              "          document.querySelector('#df-9b9af642-2933-4d7d-9e85-d7383f0c7968 button.colab-df-convert');\n",
              "        buttonEl.style.display =\n",
              "          google.colab.kernel.accessAllowed ? 'block' : 'none';\n",
              "\n",
              "        async function convertToInteractive(key) {\n",
              "          const element = document.querySelector('#df-9b9af642-2933-4d7d-9e85-d7383f0c7968');\n",
              "          const dataTable =\n",
              "            await google.colab.kernel.invokeFunction('convertToInteractive',\n",
              "                                                     [key], {});\n",
              "          if (!dataTable) return;\n",
              "\n",
              "          const docLinkHtml = 'Like what you see? Visit the ' +\n",
              "            '<a target=\"_blank\" href=https://colab.research.google.com/notebooks/data_table.ipynb>data table notebook</a>'\n",
              "            + ' to learn more about interactive tables.';\n",
              "          element.innerHTML = '';\n",
              "          dataTable['output_type'] = 'display_data';\n",
              "          await google.colab.output.renderOutput(dataTable, element);\n",
              "          const docLink = document.createElement('div');\n",
              "          docLink.innerHTML = docLinkHtml;\n",
              "          element.appendChild(docLink);\n",
              "        }\n",
              "      </script>\n",
              "    </div>\n",
              "  </div>\n",
              "  "
            ]
          },
          "metadata": {},
          "execution_count": 3
        }
      ]
    },
    {
      "cell_type": "code",
      "source": [
        "x = df.drop('Class (1, 2, 3)', axis = 1)\n",
        "y = df['Class (1, 2, 3)']"
      ],
      "metadata": {
        "id": "X3wA55D28Dnj"
      },
      "execution_count": 4,
      "outputs": []
    },
    {
      "cell_type": "code",
      "source": [
        "print('X shape=', x.shape)\n",
        "print('y shape=', y.shape)"
      ],
      "metadata": {
        "colab": {
          "base_uri": "https://localhost:8080/"
        },
        "id": "lDKjyOIS10n_",
        "outputId": "dba3a3f3-fcc8-471c-9895-3cc9c32e2093"
      },
      "execution_count": 5,
      "outputs": [
        {
          "output_type": "stream",
          "name": "stdout",
          "text": [
            "X shape= (210, 7)\n",
            "y shape= (210,)\n"
          ]
        }
      ]
    },
    {
      "cell_type": "code",
      "source": [
        "# copy the data\n",
        "df_min_max_scaled = x.copy()\n",
        "  \n",
        "# apply normalization techniques\n",
        "for column in df_min_max_scaled.columns:\n",
        "    df_min_max_scaled[column] = (df_min_max_scaled[column] - df_min_max_scaled[column].min()) / (df_min_max_scaled[column].max() - df_min_max_scaled[column].min())    \n",
        "  \n",
        "# view normalized data\n",
        "print(df_min_max_scaled)\n",
        "\n",
        "\n",
        "df2 = df_min_max_scaled"
      ],
      "metadata": {
        "colab": {
          "base_uri": "https://localhost:8080/"
        },
        "id": "oncur0c_11aU",
        "outputId": "aa0f3055-2d55-410e-ab19-b86dba221c4f"
      },
      "execution_count": 6,
      "outputs": [
        {
          "output_type": "stream",
          "name": "stdout",
          "text": [
            "         Area  Perimeter  Compactness  Length of kernel  Width of kernel  \\\n",
            "0    0.440982   0.502066     0.570780          0.486486         0.486101   \n",
            "1    0.405099   0.446281     0.662432          0.368806         0.501069   \n",
            "2    0.349386   0.347107     0.879310          0.220721         0.503920   \n",
            "3    0.306893   0.316116     0.793103          0.239302         0.533856   \n",
            "4    0.524079   0.533058     0.864791          0.427365         0.664291   \n",
            "..        ...        ...          ...               ...              ...   \n",
            "205  0.151086   0.163223     0.637024          0.134009         0.250178   \n",
            "206  0.060434   0.097107     0.390200          0.135698         0.117605   \n",
            "207  0.246459   0.258264     0.727768          0.189752         0.429081   \n",
            "208  0.118036   0.165289     0.399274          0.155405         0.146828   \n",
            "209  0.161473   0.192149     0.547187          0.193694         0.245189   \n",
            "\n",
            "     Asymmetry coefficient  Length of kernel groove  \n",
            "0                 0.189302                 0.345150  \n",
            "1                 0.032883                 0.215165  \n",
            "2                 0.251453                 0.150665  \n",
            "3                 0.194243                 0.140817  \n",
            "4                 0.076701                 0.322994  \n",
            "..                     ...                      ...  \n",
            "205               0.372635                 0.172821  \n",
            "206               0.462872                 0.238306  \n",
            "207               0.981667                 0.264402  \n",
            "208               0.368344                 0.258493  \n",
            "209               0.633463                 0.267848  \n",
            "\n",
            "[210 rows x 7 columns]\n"
          ]
        }
      ]
    },
    {
      "cell_type": "code",
      "source": [
        "# Build Machine Learning Model\n",
        "#Lets create feature matrix X  and y labels\n",
        "x = df2\n",
        "y = df['Class (1, 2, 3)']"
      ],
      "metadata": {
        "id": "iY1prjBO2UJ6"
      },
      "execution_count": 7,
      "outputs": []
    },
    {
      "cell_type": "code",
      "source": [
        "print('X shape=', x.shape)\n",
        "print('y shape=', y.shape)"
      ],
      "metadata": {
        "colab": {
          "base_uri": "https://localhost:8080/"
        },
        "id": "EbeiYkLt2UGh",
        "outputId": "3e8b5e67-ad6a-40f2-d977-d66cddc9c077"
      },
      "execution_count": 8,
      "outputs": [
        {
          "output_type": "stream",
          "name": "stdout",
          "text": [
            "X shape= (210, 7)\n",
            "y shape= (210,)\n"
          ]
        }
      ]
    },
    {
      "cell_type": "code",
      "source": [
        "#corelation plot:\n",
        "plt.figure(figsize = (18, 10))\n",
        "corr = df.corr()\n",
        "sns.heatmap(corr, cmap = 'summer', annot = True)"
      ],
      "metadata": {
        "colab": {
          "base_uri": "https://localhost:8080/",
          "height": 721
        },
        "id": "NvZrjDFc2UEd",
        "outputId": "76e69ea8-23cc-43bd-b628-4acc8a3740f4"
      },
      "execution_count": 9,
      "outputs": [
        {
          "output_type": "execute_result",
          "data": {
            "text/plain": [
              "<matplotlib.axes._subplots.AxesSubplot at 0x7f8acf5c8410>"
            ]
          },
          "metadata": {},
          "execution_count": 9
        },
        {
          "output_type": "display_data",
          "data": {
            "text/plain": [
              "<Figure size 1296x720 with 2 Axes>"
            ],
            "image/png": "[encoded data removed]"
          },
          "metadata": {
            "needs_background": "light"
          }
        }
      ]
    },
    {
      "cell_type": "markdown",
      "source": [
        "# Checking VIF values"
      ],
      "metadata": {
        "id": "OBy0KrBt3e-r"
      }
    },
    {
      "cell_type": "code",
      "source": [
        "import statsmodels.api as sm\n",
        "from statsmodels.stats.outliers_influence import variance_inflation_factor\n",
        "\n",
        "#x = df[list(df.columns[:-1])]\n",
        "\n",
        "vif_info = pd.DataFrame()\n",
        "vif_info['VIF'] = [variance_inflation_factor(x.values, i) for i in range(x.shape[1])]\n",
        "vif_info['Column'] = x.columns\n",
        "vif_info.sort_values('VIF', ascending=False)"
      ],
      "metadata": {
        "colab": {
          "base_uri": "https://localhost:8080/",
          "height": 269
        },
        "id": "kX96jSy02UBz",
        "outputId": "fcffe505-fecc-4757-afd1-a70a7a512ec8"
      },
      "execution_count": 10,
      "outputs": [
        {
          "output_type": "execute_result",
          "data": {
            "text/plain": [
              "          VIF                   Column\n",
              "0  810.877193                     Area\n",
              "1  804.654929                Perimeter\n",
              "4  393.703028          Width of kernel\n",
              "3  183.102864         Length of kernel\n",
              "6   46.077798  Length of kernel groove\n",
              "2   35.073601              Compactness\n",
              "5    5.821741    Asymmetry coefficient"
            ],
            "text/html": [
              "\n",
              "  <div id=\"df-7ac9a44c-5d6a-45f7-9fb5-28ac97c99193\">\n",
              "    <div class=\"colab-df-container\">\n",
              "      <div>\n",
              "<style scoped>\n",
              "    .dataframe tbody tr th:only-of-type {\n",
              "        vertical-align: middle;\n",
              "    }\n",
              "\n",
              "    .dataframe tbody tr th {\n",
              "        vertical-align: top;\n",
              "    }\n",
              "\n",
              "    .dataframe thead th {\n",
              "        text-align: right;\n",
              "    }\n",
              "</style>\n",
              "<table border=\"1\" class=\"dataframe\">\n",
              "  <thead>\n",
              "    <tr style=\"text-align: right;\">\n",
              "      <th></th>\n",
              "      <th>VIF</th>\n",
              "      <th>Column</th>\n",
              "    </tr>\n",
              "  </thead>\n",
              "  <tbody>\n",
              "    <tr>\n",
              "      <th>0</th>\n",
              "      <td>810.877193</td>\n",
              "      <td>Area</td>\n",
              "    </tr>\n",
              "    <tr>\n",
              "      <th>1</th>\n",
              "      <td>804.654929</td>\n",
              "      <td>Perimeter</td>\n",
              "    </tr>\n",
              "    <tr>\n",
              "      <th>4</th>\n",
              "      <td>393.703028</td>\n",
              "      <td>Width of kernel</td>\n",
              "    </tr>\n",
              "    <tr>\n",
              "      <th>3</th>\n",
              "      <td>183.102864</td>\n",
              "      <td>Length of kernel</td>\n",
              "    </tr>\n",
              "    <tr>\n",
              "      <th>6</th>\n",
              "      <td>46.077798</td>\n",
              "      <td>Length of kernel groove</td>\n",
              "    </tr>\n",
              "    <tr>\n",
              "      <th>2</th>\n",
              "      <td>35.073601</td>\n",
              "      <td>Compactness</td>\n",
              "    </tr>\n",
              "    <tr>\n",
              "      <th>5</th>\n",
              "      <td>5.821741</td>\n",
              "      <td>Asymmetry coefficient</td>\n",
              "    </tr>\n",
              "  </tbody>\n",
              "</table>\n",
              "</div>\n",
              "      <button class=\"colab-df-convert\" onclick=\"convertToInteractive('df-7ac9a44c-5d6a-45f7-9fb5-28ac97c99193')\"\n",
              "              title=\"Convert this dataframe to an interactive table.\"\n",
              "              style=\"display:none;\">\n",
              "        \n",
              "  <svg xmlns=\"http://www.w3.org/2000/svg\" height=\"24px\"viewBox=\"0 0 24 24\"\n",
              "       width=\"24px\">\n",
              "    <path d=\"M0 0h24v24H0V0z\" fill=\"none\"/>\n",
              "    <path d=\"M18.56 5.44l.94 2.06.94-2.06 2.06-.94-2.06-.94-.94-2.06-.94 2.06-2.06.94zm-11 1L8.5 8.5l.94-2.06 2.06-.94-2.06-.94L8.5 2.5l-.94 2.06-2.06.94zm10 10l.94 2.06.94-2.06 2.06-.94-2.06-.94-.94-2.06-.94 2.06-2.06.94z\"/><path d=\"M17.41 7.96l-1.37-1.37c-.4-.4-.92-.59-1.43-.59-.52 0-1.04.2-1.43.59L10.3 9.45l-7.72 7.72c-.78.78-.78 2.05 0 2.83L4 21.41c.39.39.9.59 1.41.59.51 0 1.02-.2 1.41-.59l7.78-7.78 2.81-2.81c.8-.78.8-2.07 0-2.86zM5.41 20L4 18.59l7.72-7.72 1.47 1.35L5.41 20z\"/>\n",
              "  </svg>\n",
              "      </button>\n",
              "      \n",
              "  <style>\n",
              "    .colab-df-container {\n",
              "      display:flex;\n",
              "      flex-wrap:wrap;\n",
              "      gap: 12px;\n",
              "    }\n",
              "\n",
              "    .colab-df-convert {\n",
              "      background-color: #E8F0FE;\n",
              "      border: none;\n",
              "      border-radius: 50%;\n",
              "      cursor: pointer;\n",
              "      display: none;\n",
              "      fill: #1967D2;\n",
              "      height: 32px;\n",
              "      padding: 0 0 0 0;\n",
              "      width: 32px;\n",
              "    }\n",
              "\n",
              "    .colab-df-convert:hover {\n",
              "      background-color: #E2EBFA;\n",
              "      box-shadow: 0px 1px 2px rgba(60, 64, 67, 0.3), 0px 1px 3px 1px rgba(60, 64, 67, 0.15);\n",
              "      fill: #174EA6;\n",
              "    }\n",
              "\n",
              "    [theme=dark] .colab-df-convert {\n",
              "      background-color: #3B4455;\n",
              "      fill: #D2E3FC;\n",
              "    }\n",
              "\n",
              "    [theme=dark] .colab-df-convert:hover {\n",
              "      background-color: #434B5C;\n",
              "      box-shadow: 0px 1px 3px 1px rgba(0, 0, 0, 0.15);\n",
              "      filter: drop-shadow(0px 1px 2px rgba(0, 0, 0, 0.3));\n",
              "      fill: #FFFFFF;\n",
              "    }\n",
              "  </style>\n",
              "\n",
              "      <script>\n",
              "        const buttonEl =\n",
              "          document.querySelector('#df-7ac9a44c-5d6a-45f7-9fb5-28ac97c99193 button.colab-df-convert');\n",
              "        buttonEl.style.display =\n",
              "          google.colab.kernel.accessAllowed ? 'block' : 'none';\n",
              "\n",
              "        async function convertToInteractive(key) {\n",
              "          const element = document.querySelector('#df-7ac9a44c-5d6a-45f7-9fb5-28ac97c99193');\n",
              "          const dataTable =\n",
              "            await google.colab.kernel.invokeFunction('convertToInteractive',\n",
              "                                                     [key], {});\n",
              "          if (!dataTable) return;\n",
              "\n",
              "          const docLinkHtml = 'Like what you see? Visit the ' +\n",
              "            '<a target=\"_blank\" href=https://colab.research.google.com/notebooks/data_table.ipynb>data table notebook</a>'\n",
              "            + ' to learn more about interactive tables.';\n",
              "          element.innerHTML = '';\n",
              "          dataTable['output_type'] = 'display_data';\n",
              "          await google.colab.output.renderOutput(dataTable, element);\n",
              "          const docLink = document.createElement('div');\n",
              "          docLink.innerHTML = docLinkHtml;\n",
              "          element.appendChild(docLink);\n",
              "        }\n",
              "      </script>\n",
              "    </div>\n",
              "  </div>\n",
              "  "
            ]
          },
          "metadata": {},
          "execution_count": 10
        }
      ]
    },
    {
      "cell_type": "markdown",
      "source": [
        "There is high VIF value of Area so we are drop this column.\n"
      ],
      "metadata": {
        "id": "codl_APh36hG"
      }
    },
    {
      "cell_type": "code",
      "source": [
        "x1 = x.drop(('Area'),axis=1)\n",
        "vif_info = pd.DataFrame()\n",
        "vif_info['VIF'] = [variance_inflation_factor(x1.values, i) for i in range(x1.shape[1])]\n",
        "vif_info['Column'] = x1.columns\n",
        "vif_info.sort_values('VIF', ascending=False)"
      ],
      "metadata": {
        "colab": {
          "base_uri": "https://localhost:8080/",
          "height": 237
        },
        "id": "kQqapcNr3wV9",
        "outputId": "3797c23b-2742-46cb-9770-4b5c9b14cddd"
      },
      "execution_count": 11,
      "outputs": [
        {
          "output_type": "execute_result",
          "data": {
            "text/plain": [
              "          VIF                   Column\n",
              "0  464.760079                Perimeter\n",
              "2  179.648474         Length of kernel\n",
              "3  177.504469          Width of kernel\n",
              "5   44.166370  Length of kernel groove\n",
              "1   21.374009              Compactness\n",
              "4    4.811310    Asymmetry coefficient"
            ],
            "text/html": [
              "\n",
              "  <div id=\"df-872e858a-e244-4248-ba17-a756aa82649b\">\n",
              "    <div class=\"colab-df-container\">\n",
              "      <div>\n",
              "<style scoped>\n",
              "    .dataframe tbody tr th:only-of-type {\n",
              "        vertical-align: middle;\n",
              "    }\n",
              "\n",
              "    .dataframe tbody tr th {\n",
              "        vertical-align: top;\n",
              "    }\n",
              "\n",
              "    .dataframe thead th {\n",
              "        text-align: right;\n",
              "    }\n",
              "</style>\n",
              "<table border=\"1\" class=\"dataframe\">\n",
              "  <thead>\n",
              "    <tr style=\"text-align: right;\">\n",
              "      <th></th>\n",
              "      <th>VIF</th>\n",
              "      <th>Column</th>\n",
              "    </tr>\n",
              "  </thead>\n",
              "  <tbody>\n",
              "    <tr>\n",
              "      <th>0</th>\n",
              "      <td>464.760079</td>\n",
              "      <td>Perimeter</td>\n",
              "    </tr>\n",
              "    <tr>\n",
              "      <th>2</th>\n",
              "      <td>179.648474</td>\n",
              "      <td>Length of kernel</td>\n",
              "    </tr>\n",
              "    <tr>\n",
              "      <th>3</th>\n",
              "      <td>177.504469</td>\n",
              "      <td>Width of kernel</td>\n",
              "    </tr>\n",
              "    <tr>\n",
              "      <th>5</th>\n",
              "      <td>44.166370</td>\n",
              "      <td>Length of kernel groove</td>\n",
              "    </tr>\n",
              "    <tr>\n",
              "      <th>1</th>\n",
              "      <td>21.374009</td>\n",
              "      <td>Compactness</td>\n",
              "    </tr>\n",
              "    <tr>\n",
              "      <th>4</th>\n",
              "      <td>4.811310</td>\n",
              "      <td>Asymmetry coefficient</td>\n",
              "    </tr>\n",
              "  </tbody>\n",
              "</table>\n",
              "</div>\n",
              "      <button class=\"colab-df-convert\" onclick=\"convertToInteractive('df-872e858a-e244-4248-ba17-a756aa82649b')\"\n",
              "              title=\"Convert this dataframe to an interactive table.\"\n",
              "              style=\"display:none;\">\n",
              "        \n",
              "  <svg xmlns=\"http://www.w3.org/2000/svg\" height=\"24px\"viewBox=\"0 0 24 24\"\n",
              "       width=\"24px\">\n",
              "    <path d=\"M0 0h24v24H0V0z\" fill=\"none\"/>\n",
              "    <path d=\"M18.56 5.44l.94 2.06.94-2.06 2.06-.94-2.06-.94-.94-2.06-.94 2.06-2.06.94zm-11 1L8.5 8.5l.94-2.06 2.06-.94-2.06-.94L8.5 2.5l-.94 2.06-2.06.94zm10 10l.94 2.06.94-2.06 2.06-.94-2.06-.94-.94-2.06-.94 2.06-2.06.94z\"/><path d=\"M17.41 7.96l-1.37-1.37c-.4-.4-.92-.59-1.43-.59-.52 0-1.04.2-1.43.59L10.3 9.45l-7.72 7.72c-.78.78-.78 2.05 0 2.83L4 21.41c.39.39.9.59 1.41.59.51 0 1.02-.2 1.41-.59l7.78-7.78 2.81-2.81c.8-.78.8-2.07 0-2.86zM5.41 20L4 18.59l7.72-7.72 1.47 1.35L5.41 20z\"/>\n",
              "  </svg>\n",
              "      </button>\n",
              "      \n",
              "  <style>\n",
              "    .colab-df-container {\n",
              "      display:flex;\n",
              "      flex-wrap:wrap;\n",
              "      gap: 12px;\n",
              "    }\n",
              "\n",
              "    .colab-df-convert {\n",
              "      background-color: #E8F0FE;\n",
              "      border: none;\n",
              "      border-radius: 50%;\n",
              "      cursor: pointer;\n",
              "      display: none;\n",
              "      fill: #1967D2;\n",
              "      height: 32px;\n",
              "      padding: 0 0 0 0;\n",
              "      width: 32px;\n",
              "    }\n",
              "\n",
              "    .colab-df-convert:hover {\n",
              "      background-color: #E2EBFA;\n",
              "      box-shadow: 0px 1px 2px rgba(60, 64, 67, 0.3), 0px 1px 3px 1px rgba(60, 64, 67, 0.15);\n",
              "      fill: #174EA6;\n",
              "    }\n",
              "\n",
              "    [theme=dark] .colab-df-convert {\n",
              "      background-color: #3B4455;\n",
              "      fill: #D2E3FC;\n",
              "    }\n",
              "\n",
              "    [theme=dark] .colab-df-convert:hover {\n",
              "      background-color: #434B5C;\n",
              "      box-shadow: 0px 1px 3px 1px rgba(0, 0, 0, 0.15);\n",
              "      filter: drop-shadow(0px 1px 2px rgba(0, 0, 0, 0.3));\n",
              "      fill: #FFFFFF;\n",
              "    }\n",
              "  </style>\n",
              "\n",
              "      <script>\n",
              "        const buttonEl =\n",
              "          document.querySelector('#df-872e858a-e244-4248-ba17-a756aa82649b button.colab-df-convert');\n",
              "        buttonEl.style.display =\n",
              "          google.colab.kernel.accessAllowed ? 'block' : 'none';\n",
              "\n",
              "        async function convertToInteractive(key) {\n",
              "          const element = document.querySelector('#df-872e858a-e244-4248-ba17-a756aa82649b');\n",
              "          const dataTable =\n",
              "            await google.colab.kernel.invokeFunction('convertToInteractive',\n",
              "                                                     [key], {});\n",
              "          if (!dataTable) return;\n",
              "\n",
              "          const docLinkHtml = 'Like what you see? Visit the ' +\n",
              "            '<a target=\"_blank\" href=https://colab.research.google.com/notebooks/data_table.ipynb>data table notebook</a>'\n",
              "            + ' to learn more about interactive tables.';\n",
              "          element.innerHTML = '';\n",
              "          dataTable['output_type'] = 'display_data';\n",
              "          await google.colab.output.renderOutput(dataTable, element);\n",
              "          const docLink = document.createElement('div');\n",
              "          docLink.innerHTML = docLinkHtml;\n",
              "          element.appendChild(docLink);\n",
              "        }\n",
              "      </script>\n",
              "    </div>\n",
              "  </div>\n",
              "  "
            ]
          },
          "metadata": {},
          "execution_count": 11
        }
      ]
    },
    {
      "cell_type": "markdown",
      "source": [
        "Again there is high VIF value of Perimeter so we are drop thos column."
      ],
      "metadata": {
        "id": "3frFj3bi4dNz"
      }
    },
    {
      "cell_type": "code",
      "source": [
        "x2 = x1.drop(('Perimeter'),axis=1)\n",
        "vif_info = pd.DataFrame()\n",
        "vif_info['VIF'] = [variance_inflation_factor(x2.values, i) for i in range(x2.shape[1])]\n",
        "vif_info['Column'] = x2.columns\n",
        "vif_info.sort_values('VIF', ascending=False)"
      ],
      "metadata": {
        "colab": {
          "base_uri": "https://localhost:8080/",
          "height": 206
        },
        "id": "TRkw5FZ43wSt",
        "outputId": "9a4c6bfd-9ebf-4655-e5c6-5faaf4b32dcb"
      },
      "execution_count": 12,
      "outputs": [
        {
          "output_type": "execute_result",
          "data": {
            "text/plain": [
              "         VIF                   Column\n",
              "1  64.254970         Length of kernel\n",
              "2  50.683796          Width of kernel\n",
              "4  42.363223  Length of kernel groove\n",
              "0  18.729983              Compactness\n",
              "3   4.794261    Asymmetry coefficient"
            ],
            "text/html": [
              "\n",
              "  <div id=\"df-34030631-8c91-4147-9003-272ad1c6a0e0\">\n",
              "    <div class=\"colab-df-container\">\n",
              "      <div>\n",
              "<style scoped>\n",
              "    .dataframe tbody tr th:only-of-type {\n",
              "        vertical-align: middle;\n",
              "    }\n",
              "\n",
              "    .dataframe tbody tr th {\n",
              "        vertical-align: top;\n",
              "    }\n",
              "\n",
              "    .dataframe thead th {\n",
              "        text-align: right;\n",
              "    }\n",
              "</style>\n",
              "<table border=\"1\" class=\"dataframe\">\n",
              "  <thead>\n",
              "    <tr style=\"text-align: right;\">\n",
              "      <th></th>\n",
              "      <th>VIF</th>\n",
              "      <th>Column</th>\n",
              "    </tr>\n",
              "  </thead>\n",
              "  <tbody>\n",
              "    <tr>\n",
              "      <th>1</th>\n",
              "      <td>64.254970</td>\n",
              "      <td>Length of kernel</td>\n",
              "    </tr>\n",
              "    <tr>\n",
              "      <th>2</th>\n",
              "      <td>50.683796</td>\n",
              "      <td>Width of kernel</td>\n",
              "    </tr>\n",
              "    <tr>\n",
              "      <th>4</th>\n",
              "      <td>42.363223</td>\n",
              "      <td>Length of kernel groove</td>\n",
              "    </tr>\n",
              "    <tr>\n",
              "      <th>0</th>\n",
              "      <td>18.729983</td>\n",
              "      <td>Compactness</td>\n",
              "    </tr>\n",
              "    <tr>\n",
              "      <th>3</th>\n",
              "      <td>4.794261</td>\n",
              "      <td>Asymmetry coefficient</td>\n",
              "    </tr>\n",
              "  </tbody>\n",
              "</table>\n",
              "</div>\n",
              "      <button class=\"colab-df-convert\" onclick=\"convertToInteractive('df-34030631-8c91-4147-9003-272ad1c6a0e0')\"\n",
              "              title=\"Convert this dataframe to an interactive table.\"\n",
              "              style=\"display:none;\">\n",
              "        \n",
              "  <svg xmlns=\"http://www.w3.org/2000/svg\" height=\"24px\"viewBox=\"0 0 24 24\"\n",
              "       width=\"24px\">\n",
              "    <path d=\"M0 0h24v24H0V0z\" fill=\"none\"/>\n",
              "    <path d=\"M18.56 5.44l.94 2.06.94-2.06 2.06-.94-2.06-.94-.94-2.06-.94 2.06-2.06.94zm-11 1L8.5 8.5l.94-2.06 2.06-.94-2.06-.94L8.5 2.5l-.94 2.06-2.06.94zm10 10l.94 2.06.94-2.06 2.06-.94-2.06-.94-.94-2.06-.94 2.06-2.06.94z\"/><path d=\"M17.41 7.96l-1.37-1.37c-.4-.4-.92-.59-1.43-.59-.52 0-1.04.2-1.43.59L10.3 9.45l-7.72 7.72c-.78.78-.78 2.05 0 2.83L4 21.41c.39.39.9.59 1.41.59.51 0 1.02-.2 1.41-.59l7.78-7.78 2.81-2.81c.8-.78.8-2.07 0-2.86zM5.41 20L4 18.59l7.72-7.72 1.47 1.35L5.41 20z\"/>\n",
              "  </svg>\n",
              "      </button>\n",
              "      \n",
              "  <style>\n",
              "    .colab-df-container {\n",
              "      display:flex;\n",
              "      flex-wrap:wrap;\n",
              "      gap: 12px;\n",
              "    }\n",
              "\n",
              "    .colab-df-convert {\n",
              "      background-color: #E8F0FE;\n",
              "      border: none;\n",
              "      border-radius: 50%;\n",
              "      cursor: pointer;\n",
              "      display: none;\n",
              "      fill: #1967D2;\n",
              "      height: 32px;\n",
              "      padding: 0 0 0 0;\n",
              "      width: 32px;\n",
              "    }\n",
              "\n",
              "    .colab-df-convert:hover {\n",
              "      background-color: #E2EBFA;\n",
              "      box-shadow: 0px 1px 2px rgba(60, 64, 67, 0.3), 0px 1px 3px 1px rgba(60, 64, 67, 0.15);\n",
              "      fill: #174EA6;\n",
              "    }\n",
              "\n",
              "    [theme=dark] .colab-df-convert {\n",
              "      background-color: #3B4455;\n",
              "      fill: #D2E3FC;\n",
              "    }\n",
              "\n",
              "    [theme=dark] .colab-df-convert:hover {\n",
              "      background-color: #434B5C;\n",
              "      box-shadow: 0px 1px 3px 1px rgba(0, 0, 0, 0.15);\n",
              "      filter: drop-shadow(0px 1px 2px rgba(0, 0, 0, 0.3));\n",
              "      fill: #FFFFFF;\n",
              "    }\n",
              "  </style>\n",
              "\n",
              "      <script>\n",
              "        const buttonEl =\n",
              "          document.querySelector('#df-34030631-8c91-4147-9003-272ad1c6a0e0 button.colab-df-convert');\n",
              "        buttonEl.style.display =\n",
              "          google.colab.kernel.accessAllowed ? 'block' : 'none';\n",
              "\n",
              "        async function convertToInteractive(key) {\n",
              "          const element = document.querySelector('#df-34030631-8c91-4147-9003-272ad1c6a0e0');\n",
              "          const dataTable =\n",
              "            await google.colab.kernel.invokeFunction('convertToInteractive',\n",
              "                                                     [key], {});\n",
              "          if (!dataTable) return;\n",
              "\n",
              "          const docLinkHtml = 'Like what you see? Visit the ' +\n",
              "            '<a target=\"_blank\" href=https://colab.research.google.com/notebooks/data_table.ipynb>data table notebook</a>'\n",
              "            + ' to learn more about interactive tables.';\n",
              "          element.innerHTML = '';\n",
              "          dataTable['output_type'] = 'display_data';\n",
              "          await google.colab.output.renderOutput(dataTable, element);\n",
              "          const docLink = document.createElement('div');\n",
              "          docLink.innerHTML = docLinkHtml;\n",
              "          element.appendChild(docLink);\n",
              "        }\n",
              "      </script>\n",
              "    </div>\n",
              "  </div>\n",
              "  "
            ]
          },
          "metadata": {},
          "execution_count": 12
        }
      ]
    },
    {
      "cell_type": "markdown",
      "source": [
        "There is high VIF value of Length of kernel so we are also drop thos column."
      ],
      "metadata": {
        "id": "zuWcdlHu48xh"
      }
    },
    {
      "cell_type": "code",
      "source": [
        "x3 = x2.drop(('Length of kernel'),axis=1)\n",
        "vif_info = pd.DataFrame()\n",
        "vif_info['VIF'] = [variance_inflation_factor(x3.values, i) for i in range(x3.shape[1])]\n",
        "vif_info['Column'] = x3.columns\n",
        "vif_info.sort_values('VIF', ascending=False)"
      ],
      "metadata": {
        "colab": {
          "base_uri": "https://localhost:8080/",
          "height": 175
        },
        "id": "hg4XIP083wQd",
        "outputId": "a00c970e-5d18-486a-8c12-e183728dcfc4"
      },
      "execution_count": 13,
      "outputs": [
        {
          "output_type": "execute_result",
          "data": {
            "text/plain": [
              "         VIF                   Column\n",
              "1  32.095541          Width of kernel\n",
              "0  16.755239              Compactness\n",
              "3  15.490301  Length of kernel groove\n",
              "2   4.760321    Asymmetry coefficient"
            ],
            "text/html": [
              "\n",
              "  <div id=\"df-c6cb7e15-792b-481b-8525-3779cf933e1a\">\n",
              "    <div class=\"colab-df-container\">\n",
              "      <div>\n",
              "<style scoped>\n",
              "    .dataframe tbody tr th:only-of-type {\n",
              "        vertical-align: middle;\n",
              "    }\n",
              "\n",
              "    .dataframe tbody tr th {\n",
              "        vertical-align: top;\n",
              "    }\n",
              "\n",
              "    .dataframe thead th {\n",
              "        text-align: right;\n",
              "    }\n",
              "</style>\n",
              "<table border=\"1\" class=\"dataframe\">\n",
              "  <thead>\n",
              "    <tr style=\"text-align: right;\">\n",
              "      <th></th>\n",
              "      <th>VIF</th>\n",
              "      <th>Column</th>\n",
              "    </tr>\n",
              "  </thead>\n",
              "  <tbody>\n",
              "    <tr>\n",
              "      <th>1</th>\n",
              "      <td>32.095541</td>\n",
              "      <td>Width of kernel</td>\n",
              "    </tr>\n",
              "    <tr>\n",
              "      <th>0</th>\n",
              "      <td>16.755239</td>\n",
              "      <td>Compactness</td>\n",
              "    </tr>\n",
              "    <tr>\n",
              "      <th>3</th>\n",
              "      <td>15.490301</td>\n",
              "      <td>Length of kernel groove</td>\n",
              "    </tr>\n",
              "    <tr>\n",
              "      <th>2</th>\n",
              "      <td>4.760321</td>\n",
              "      <td>Asymmetry coefficient</td>\n",
              "    </tr>\n",
              "  </tbody>\n",
              "</table>\n",
              "</div>\n",
              "      <button class=\"colab-df-convert\" onclick=\"convertToInteractive('df-c6cb7e15-792b-481b-8525-3779cf933e1a')\"\n",
              "              title=\"Convert this dataframe to an interactive table.\"\n",
              "              style=\"display:none;\">\n",
              "        \n",
              "  <svg xmlns=\"http://www.w3.org/2000/svg\" height=\"24px\"viewBox=\"0 0 24 24\"\n",
              "       width=\"24px\">\n",
              "    <path d=\"M0 0h24v24H0V0z\" fill=\"none\"/>\n",
              "    <path d=\"M18.56 5.44l.94 2.06.94-2.06 2.06-.94-2.06-.94-.94-2.06-.94 2.06-2.06.94zm-11 1L8.5 8.5l.94-2.06 2.06-.94-2.06-.94L8.5 2.5l-.94 2.06-2.06.94zm10 10l.94 2.06.94-2.06 2.06-.94-2.06-.94-.94-2.06-.94 2.06-2.06.94z\"/><path d=\"M17.41 7.96l-1.37-1.37c-.4-.4-.92-.59-1.43-.59-.52 0-1.04.2-1.43.59L10.3 9.45l-7.72 7.72c-.78.78-.78 2.05 0 2.83L4 21.41c.39.39.9.59 1.41.59.51 0 1.02-.2 1.41-.59l7.78-7.78 2.81-2.81c.8-.78.8-2.07 0-2.86zM5.41 20L4 18.59l7.72-7.72 1.47 1.35L5.41 20z\"/>\n",
              "  </svg>\n",
              "      </button>\n",
              "      \n",
              "  <style>\n",
              "    .colab-df-container {\n",
              "      display:flex;\n",
              "      flex-wrap:wrap;\n",
              "      gap: 12px;\n",
              "    }\n",
              "\n",
              "    .colab-df-convert {\n",
              "      background-color: #E8F0FE;\n",
              "      border: none;\n",
              "      border-radius: 50%;\n",
              "      cursor: pointer;\n",
              "      display: none;\n",
              "      fill: #1967D2;\n",
              "      height: 32px;\n",
              "      padding: 0 0 0 0;\n",
              "      width: 32px;\n",
              "    }\n",
              "\n",
              "    .colab-df-convert:hover {\n",
              "      background-color: #E2EBFA;\n",
              "      box-shadow: 0px 1px 2px rgba(60, 64, 67, 0.3), 0px 1px 3px 1px rgba(60, 64, 67, 0.15);\n",
              "      fill: #174EA6;\n",
              "    }\n",
              "\n",
              "    [theme=dark] .colab-df-convert {\n",
              "      background-color: #3B4455;\n",
              "      fill: #D2E3FC;\n",
              "    }\n",
              "\n",
              "    [theme=dark] .colab-df-convert:hover {\n",
              "      background-color: #434B5C;\n",
              "      box-shadow: 0px 1px 3px 1px rgba(0, 0, 0, 0.15);\n",
              "      filter: drop-shadow(0px 1px 2px rgba(0, 0, 0, 0.3));\n",
              "      fill: #FFFFFF;\n",
              "    }\n",
              "  </style>\n",
              "\n",
              "      <script>\n",
              "        const buttonEl =\n",
              "          document.querySelector('#df-c6cb7e15-792b-481b-8525-3779cf933e1a button.colab-df-convert');\n",
              "        buttonEl.style.display =\n",
              "          google.colab.kernel.accessAllowed ? 'block' : 'none';\n",
              "\n",
              "        async function convertToInteractive(key) {\n",
              "          const element = document.querySelector('#df-c6cb7e15-792b-481b-8525-3779cf933e1a');\n",
              "          const dataTable =\n",
              "            await google.colab.kernel.invokeFunction('convertToInteractive',\n",
              "                                                     [key], {});\n",
              "          if (!dataTable) return;\n",
              "\n",
              "          const docLinkHtml = 'Like what you see? Visit the ' +\n",
              "            '<a target=\"_blank\" href=https://colab.research.google.com/notebooks/data_table.ipynb>data table notebook</a>'\n",
              "            + ' to learn more about interactive tables.';\n",
              "          element.innerHTML = '';\n",
              "          dataTable['output_type'] = 'display_data';\n",
              "          await google.colab.output.renderOutput(dataTable, element);\n",
              "          const docLink = document.createElement('div');\n",
              "          docLink.innerHTML = docLinkHtml;\n",
              "          element.appendChild(docLink);\n",
              "        }\n",
              "      </script>\n",
              "    </div>\n",
              "  </div>\n",
              "  "
            ]
          },
          "metadata": {},
          "execution_count": 13
        }
      ]
    },
    {
      "cell_type": "code",
      "source": [
        "x3.head()"
      ],
      "metadata": {
        "colab": {
          "base_uri": "https://localhost:8080/",
          "height": 206
        },
        "id": "C5ONTqUYQRA8",
        "outputId": "1ad728ad-b0b6-451c-bcc1-ca0718fd41e1"
      },
      "execution_count": 28,
      "outputs": [
        {
          "output_type": "execute_result",
          "data": {
            "text/plain": [
              "   Compactness  Width of kernel  Asymmetry coefficient  \\\n",
              "0     0.570780         0.486101               0.189302   \n",
              "1     0.662432         0.501069               0.032883   \n",
              "2     0.879310         0.503920               0.251453   \n",
              "3     0.793103         0.533856               0.194243   \n",
              "4     0.864791         0.664291               0.076701   \n",
              "\n",
              "   Length of kernel groove  \n",
              "0                 0.345150  \n",
              "1                 0.215165  \n",
              "2                 0.150665  \n",
              "3                 0.140817  \n",
              "4                 0.322994  "
            ],
            "text/html": [
              "\n",
              "  <div id=\"df-b6794996-0c3b-4430-8bd7-39b938bba178\">\n",
              "    <div class=\"colab-df-container\">\n",
              "      <div>\n",
              "<style scoped>\n",
              "    .dataframe tbody tr th:only-of-type {\n",
              "        vertical-align: middle;\n",
              "    }\n",
              "\n",
              "    .dataframe tbody tr th {\n",
              "        vertical-align: top;\n",
              "    }\n",
              "\n",
              "    .dataframe thead th {\n",
              "        text-align: right;\n",
              "    }\n",
              "</style>\n",
              "<table border=\"1\" class=\"dataframe\">\n",
              "  <thead>\n",
              "    <tr style=\"text-align: right;\">\n",
              "      <th></th>\n",
              "      <th>Compactness</th>\n",
              "      <th>Width of kernel</th>\n",
              "      <th>Asymmetry coefficient</th>\n",
              "      <th>Length of kernel groove</th>\n",
              "    </tr>\n",
              "  </thead>\n",
              "  <tbody>\n",
              "    <tr>\n",
              "      <th>0</th>\n",
              "      <td>0.570780</td>\n",
              "      <td>0.486101</td>\n",
              "      <td>0.189302</td>\n",
              "      <td>0.345150</td>\n",
              "    </tr>\n",
              "    <tr>\n",
              "      <th>1</th>\n",
              "      <td>0.662432</td>\n",
              "      <td>0.501069</td>\n",
              "      <td>0.032883</td>\n",
              "      <td>0.215165</td>\n",
              "    </tr>\n",
              "    <tr>\n",
              "      <th>2</th>\n",
              "      <td>0.879310</td>\n",
              "      <td>0.503920</td>\n",
              "      <td>0.251453</td>\n",
              "      <td>0.150665</td>\n",
              "    </tr>\n",
              "    <tr>\n",
              "      <th>3</th>\n",
              "      <td>0.793103</td>\n",
              "      <td>0.533856</td>\n",
              "      <td>0.194243</td>\n",
              "      <td>0.140817</td>\n",
              "    </tr>\n",
              "    <tr>\n",
              "      <th>4</th>\n",
              "      <td>0.864791</td>\n",
              "      <td>0.664291</td>\n",
              "      <td>0.076701</td>\n",
              "      <td>0.322994</td>\n",
              "    </tr>\n",
              "  </tbody>\n",
              "</table>\n",
              "</div>\n",
              "      <button class=\"colab-df-convert\" onclick=\"convertToInteractive('df-b6794996-0c3b-4430-8bd7-39b938bba178')\"\n",
              "              title=\"Convert this dataframe to an interactive table.\"\n",
              "              style=\"display:none;\">\n",
              "        \n",
              "  <svg xmlns=\"http://www.w3.org/2000/svg\" height=\"24px\"viewBox=\"0 0 24 24\"\n",
              "       width=\"24px\">\n",
              "    <path d=\"M0 0h24v24H0V0z\" fill=\"none\"/>\n",
              "    <path d=\"M18.56 5.44l.94 2.06.94-2.06 2.06-.94-2.06-.94-.94-2.06-.94 2.06-2.06.94zm-11 1L8.5 8.5l.94-2.06 2.06-.94-2.06-.94L8.5 2.5l-.94 2.06-2.06.94zm10 10l.94 2.06.94-2.06 2.06-.94-2.06-.94-.94-2.06-.94 2.06-2.06.94z\"/><path d=\"M17.41 7.96l-1.37-1.37c-.4-.4-.92-.59-1.43-.59-.52 0-1.04.2-1.43.59L10.3 9.45l-7.72 7.72c-.78.78-.78 2.05 0 2.83L4 21.41c.39.39.9.59 1.41.59.51 0 1.02-.2 1.41-.59l7.78-7.78 2.81-2.81c.8-.78.8-2.07 0-2.86zM5.41 20L4 18.59l7.72-7.72 1.47 1.35L5.41 20z\"/>\n",
              "  </svg>\n",
              "      </button>\n",
              "      \n",
              "  <style>\n",
              "    .colab-df-container {\n",
              "      display:flex;\n",
              "      flex-wrap:wrap;\n",
              "      gap: 12px;\n",
              "    }\n",
              "\n",
              "    .colab-df-convert {\n",
              "      background-color: #E8F0FE;\n",
              "      border: none;\n",
              "      border-radius: 50%;\n",
              "      cursor: pointer;\n",
              "      display: none;\n",
              "      fill: #1967D2;\n",
              "      height: 32px;\n",
              "      padding: 0 0 0 0;\n",
              "      width: 32px;\n",
              "    }\n",
              "\n",
              "    .colab-df-convert:hover {\n",
              "      background-color: #E2EBFA;\n",
              "      box-shadow: 0px 1px 2px rgba(60, 64, 67, 0.3), 0px 1px 3px 1px rgba(60, 64, 67, 0.15);\n",
              "      fill: #174EA6;\n",
              "    }\n",
              "\n",
              "    [theme=dark] .colab-df-convert {\n",
              "      background-color: #3B4455;\n",
              "      fill: #D2E3FC;\n",
              "    }\n",
              "\n",
              "    [theme=dark] .colab-df-convert:hover {\n",
              "      background-color: #434B5C;\n",
              "      box-shadow: 0px 1px 3px 1px rgba(0, 0, 0, 0.15);\n",
              "      filter: drop-shadow(0px 1px 2px rgba(0, 0, 0, 0.3));\n",
              "      fill: #FFFFFF;\n",
              "    }\n",
              "  </style>\n",
              "\n",
              "      <script>\n",
              "        const buttonEl =\n",
              "          document.querySelector('#df-b6794996-0c3b-4430-8bd7-39b938bba178 button.colab-df-convert');\n",
              "        buttonEl.style.display =\n",
              "          google.colab.kernel.accessAllowed ? 'block' : 'none';\n",
              "\n",
              "        async function convertToInteractive(key) {\n",
              "          const element = document.querySelector('#df-b6794996-0c3b-4430-8bd7-39b938bba178');\n",
              "          const dataTable =\n",
              "            await google.colab.kernel.invokeFunction('convertToInteractive',\n",
              "                                                     [key], {});\n",
              "          if (!dataTable) return;\n",
              "\n",
              "          const docLinkHtml = 'Like what you see? Visit the ' +\n",
              "            '<a target=\"_blank\" href=https://colab.research.google.com/notebooks/data_table.ipynb>data table notebook</a>'\n",
              "            + ' to learn more about interactive tables.';\n",
              "          element.innerHTML = '';\n",
              "          dataTable['output_type'] = 'display_data';\n",
              "          await google.colab.output.renderOutput(dataTable, element);\n",
              "          const docLink = document.createElement('div');\n",
              "          docLink.innerHTML = docLinkHtml;\n",
              "          element.appendChild(docLink);\n",
              "        }\n",
              "      </script>\n",
              "    </div>\n",
              "  </div>\n",
              "  "
            ]
          },
          "metadata": {},
          "execution_count": 28
        }
      ]
    },
    {
      "cell_type": "code",
      "source": [
        "from sklearn.model_selection import train_test_split\n",
        "x3_train,x3_test, y_train, y_test = train_test_split(x3, y, test_size= 0.2, random_state= 1)\n",
        "print('x_train dimension= ', x3_train.shape)\n",
        "print('x_test dimension= ', x3_test.shape)\n",
        "print('y_train dimension= ', y_train.shape)\n",
        "print('y_train dimension= ', y_test.shape)"
      ],
      "metadata": {
        "colab": {
          "base_uri": "https://localhost:8080/"
        },
        "id": "O6mFYKdkWMJB",
        "outputId": "59905b81-e752-41c0-c06b-c228f519a2c0"
      },
      "execution_count": 43,
      "outputs": [
        {
          "output_type": "stream",
          "name": "stdout",
          "text": [
            "x_train dimension=  (168, 4)\n",
            "x_test dimension=  (42, 4)\n",
            "y_train dimension=  (168,)\n",
            "y_train dimension=  (42,)\n"
          ]
        }
      ]
    },
    {
      "cell_type": "code",
      "source": [
        "from sklearn import tree\n",
        "from sklearn.tree import DecisionTreeClassifier\n",
        "#Creating the classifier object:\n",
        "clf_gini = DecisionTreeClassifier(criterion = \"gini\",\n",
        "\t\t\trandom_state = 100,max_depth=5, min_samples_leaf=5)\n",
        "clf_gini.fit(x3_train, y_train)"
      ],
      "metadata": {
        "colab": {
          "base_uri": "https://localhost:8080/"
        },
        "id": "6gWsfjK5VP1s",
        "outputId": "53bd7e67-5490-403b-e558-d1cfc7b43766"
      },
      "execution_count": 44,
      "outputs": [
        {
          "output_type": "execute_result",
          "data": {
            "text/plain": [
              "DecisionTreeClassifier(max_depth=5, min_samples_leaf=5, random_state=100)"
            ]
          },
          "metadata": {},
          "execution_count": 44
        }
      ]
    },
    {
      "cell_type": "code",
      "source": [
        "x3_train"
      ],
      "metadata": {
        "colab": {
          "base_uri": "https://localhost:8080/",
          "height": 424
        },
        "id": "EUpbVEoTWVlX",
        "outputId": "bc293813-5684-4414-fb1c-6587a111d84e"
      },
      "execution_count": 45,
      "outputs": [
        {
          "output_type": "execute_result",
          "data": {
            "text/plain": [
              "     Compactness  Width of kernel  Asymmetry coefficient  \\\n",
              "106     0.884755         0.838204               0.270176   \n",
              "151     0.152450         0.104063               0.809645   \n",
              "94      0.336661         0.609408               0.541926   \n",
              "84      0.634301         0.834640               0.285649   \n",
              "193     0.158802         0.000000               0.531524   \n",
              "..           ...              ...                    ...   \n",
              "203     0.719601         0.328582               1.000000   \n",
              "137     0.404719         0.428368               0.243782   \n",
              "72      0.618875         0.687099               0.490697   \n",
              "140     0.362069         0.259444               0.590165   \n",
              "37      0.905626         0.750535               0.284869   \n",
              "\n",
              "     Length of kernel groove  \n",
              "106                 0.827671  \n",
              "151                 0.369769  \n",
              "94                  0.949778  \n",
              "84                  0.820286  \n",
              "193                 0.280650  \n",
              "..                       ...  \n",
              "203                 0.236829  \n",
              "137                 0.669621  \n",
              "72                  0.626292  \n",
              "140                 0.431315  \n",
              "37                  0.475135  \n",
              "\n",
              "[168 rows x 4 columns]"
            ],
            "text/html": [
              "\n",
              "  <div id=\"df-22011383-9cb9-4332-b9a1-2be21994fd88\">\n",
              "    <div class=\"colab-df-container\">\n",
              "      <div>\n",
              "<style scoped>\n",
              "    .dataframe tbody tr th:only-of-type {\n",
              "        vertical-align: middle;\n",
              "    }\n",
              "\n",
              "    .dataframe tbody tr th {\n",
              "        vertical-align: top;\n",
              "    }\n",
              "\n",
              "    .dataframe thead th {\n",
              "        text-align: right;\n",
              "    }\n",
              "</style>\n",
              "<table border=\"1\" class=\"dataframe\">\n",
              "  <thead>\n",
              "    <tr style=\"text-align: right;\">\n",
              "      <th></th>\n",
              "      <th>Compactness</th>\n",
              "      <th>Width of kernel</th>\n",
              "      <th>Asymmetry coefficient</th>\n",
              "      <th>Length of kernel groove</th>\n",
              "    </tr>\n",
              "  </thead>\n",
              "  <tbody>\n",
              "    <tr>\n",
              "      <th>106</th>\n",
              "      <td>0.884755</td>\n",
              "      <td>0.838204</td>\n",
              "      <td>0.270176</td>\n",
              "      <td>0.827671</td>\n",
              "    </tr>\n",
              "    <tr>\n",
              "      <th>151</th>\n",
              "      <td>0.152450</td>\n",
              "      <td>0.104063</td>\n",
              "      <td>0.809645</td>\n",
              "      <td>0.369769</td>\n",
              "    </tr>\n",
              "    <tr>\n",
              "      <th>94</th>\n",
              "      <td>0.336661</td>\n",
              "      <td>0.609408</td>\n",
              "      <td>0.541926</td>\n",
              "      <td>0.949778</td>\n",
              "    </tr>\n",
              "    <tr>\n",
              "      <th>84</th>\n",
              "      <td>0.634301</td>\n",
              "      <td>0.834640</td>\n",
              "      <td>0.285649</td>\n",
              "      <td>0.820286</td>\n",
              "    </tr>\n",
              "    <tr>\n",
              "      <th>193</th>\n",
              "      <td>0.158802</td>\n",
              "      <td>0.000000</td>\n",
              "      <td>0.531524</td>\n",
              "      <td>0.280650</td>\n",
              "    </tr>\n",
              "    <tr>\n",
              "      <th>...</th>\n",
              "      <td>...</td>\n",
              "      <td>...</td>\n",
              "      <td>...</td>\n",
              "      <td>...</td>\n",
              "    </tr>\n",
              "    <tr>\n",
              "      <th>203</th>\n",
              "      <td>0.719601</td>\n",
              "      <td>0.328582</td>\n",
              "      <td>1.000000</td>\n",
              "      <td>0.236829</td>\n",
              "    </tr>\n",
              "    <tr>\n",
              "      <th>137</th>\n",
              "      <td>0.404719</td>\n",
              "      <td>0.428368</td>\n",
              "      <td>0.243782</td>\n",
              "      <td>0.669621</td>\n",
              "    </tr>\n",
              "    <tr>\n",
              "      <th>72</th>\n",
              "      <td>0.618875</td>\n",
              "      <td>0.687099</td>\n",
              "      <td>0.490697</td>\n",
              "      <td>0.626292</td>\n",
              "    </tr>\n",
              "    <tr>\n",
              "      <th>140</th>\n",
              "      <td>0.362069</td>\n",
              "      <td>0.259444</td>\n",
              "      <td>0.590165</td>\n",
              "      <td>0.431315</td>\n",
              "    </tr>\n",
              "    <tr>\n",
              "      <th>37</th>\n",
              "      <td>0.905626</td>\n",
              "      <td>0.750535</td>\n",
              "      <td>0.284869</td>\n",
              "      <td>0.475135</td>\n",
              "    </tr>\n",
              "  </tbody>\n",
              "</table>\n",
              "<p>168 rows × 4 columns</p>\n",
              "</div>\n",
              "      <button class=\"colab-df-convert\" onclick=\"convertToInteractive('df-22011383-9cb9-4332-b9a1-2be21994fd88')\"\n",
              "              title=\"Convert this dataframe to an interactive table.\"\n",
              "              style=\"display:none;\">\n",
              "        \n",
              "  <svg xmlns=\"http://www.w3.org/2000/svg\" height=\"24px\"viewBox=\"0 0 24 24\"\n",
              "       width=\"24px\">\n",
              "    <path d=\"M0 0h24v24H0V0z\" fill=\"none\"/>\n",
              "    <path d=\"M18.56 5.44l.94 2.06.94-2.06 2.06-.94-2.06-.94-.94-2.06-.94 2.06-2.06.94zm-11 1L8.5 8.5l.94-2.06 2.06-.94-2.06-.94L8.5 2.5l-.94 2.06-2.06.94zm10 10l.94 2.06.94-2.06 2.06-.94-2.06-.94-.94-2.06-.94 2.06-2.06.94z\"/><path d=\"M17.41 7.96l-1.37-1.37c-.4-.4-.92-.59-1.43-.59-.52 0-1.04.2-1.43.59L10.3 9.45l-7.72 7.72c-.78.78-.78 2.05 0 2.83L4 21.41c.39.39.9.59 1.41.59.51 0 1.02-.2 1.41-.59l7.78-7.78 2.81-2.81c.8-.78.8-2.07 0-2.86zM5.41 20L4 18.59l7.72-7.72 1.47 1.35L5.41 20z\"/>\n",
              "  </svg>\n",
              "      </button>\n",
              "      \n",
              "  <style>\n",
              "    .colab-df-container {\n",
              "      display:flex;\n",
              "      flex-wrap:wrap;\n",
              "      gap: 12px;\n",
              "    }\n",
              "\n",
              "    .colab-df-convert {\n",
              "      background-color: #E8F0FE;\n",
              "      border: none;\n",
              "      border-radius: 50%;\n",
              "      cursor: pointer;\n",
              "      display: none;\n",
              "      fill: #1967D2;\n",
              "      height: 32px;\n",
              "      padding: 0 0 0 0;\n",
              "      width: 32px;\n",
              "    }\n",
              "\n",
              "    .colab-df-convert:hover {\n",
              "      background-color: #E2EBFA;\n",
              "      box-shadow: 0px 1px 2px rgba(60, 64, 67, 0.3), 0px 1px 3px 1px rgba(60, 64, 67, 0.15);\n",
              "      fill: #174EA6;\n",
              "    }\n",
              "\n",
              "    [theme=dark] .colab-df-convert {\n",
              "      background-color: #3B4455;\n",
              "      fill: #D2E3FC;\n",
              "    }\n",
              "\n",
              "    [theme=dark] .colab-df-convert:hover {\n",
              "      background-color: #434B5C;\n",
              "      box-shadow: 0px 1px 3px 1px rgba(0, 0, 0, 0.15);\n",
              "      filter: drop-shadow(0px 1px 2px rgba(0, 0, 0, 0.3));\n",
              "      fill: #FFFFFF;\n",
              "    }\n",
              "  </style>\n",
              "\n",
              "      <script>\n",
              "        const buttonEl =\n",
              "          document.querySelector('#df-22011383-9cb9-4332-b9a1-2be21994fd88 button.colab-df-convert');\n",
              "        buttonEl.style.display =\n",
              "          google.colab.kernel.accessAllowed ? 'block' : 'none';\n",
              "\n",
              "        async function convertToInteractive(key) {\n",
              "          const element = document.querySelector('#df-22011383-9cb9-4332-b9a1-2be21994fd88');\n",
              "          const dataTable =\n",
              "            await google.colab.kernel.invokeFunction('convertToInteractive',\n",
              "                                                     [key], {});\n",
              "          if (!dataTable) return;\n",
              "\n",
              "          const docLinkHtml = 'Like what you see? Visit the ' +\n",
              "            '<a target=\"_blank\" href=https://colab.research.google.com/notebooks/data_table.ipynb>data table notebook</a>'\n",
              "            + ' to learn more about interactive tables.';\n",
              "          element.innerHTML = '';\n",
              "          dataTable['output_type'] = 'display_data';\n",
              "          await google.colab.output.renderOutput(dataTable, element);\n",
              "          const docLink = document.createElement('div');\n",
              "          docLink.innerHTML = docLinkHtml;\n",
              "          element.appendChild(docLink);\n",
              "        }\n",
              "      </script>\n",
              "    </div>\n",
              "  </div>\n",
              "  "
            ]
          },
          "metadata": {},
          "execution_count": 45
        }
      ]
    },
    {
      "cell_type": "code",
      "source": [
        "df['Class (1, 2, 3)'].value_counts()"
      ],
      "metadata": {
        "colab": {
          "base_uri": "https://localhost:8080/"
        },
        "id": "eV86TR3NYZVI",
        "outputId": "d316c13d-acfb-4ce2-97eb-64e6226bf634"
      },
      "execution_count": 46,
      "outputs": [
        {
          "output_type": "execute_result",
          "data": {
            "text/plain": [
              "1    70\n",
              "2    70\n",
              "3    70\n",
              "Name: Class (1, 2, 3), dtype: int64"
            ]
          },
          "metadata": {},
          "execution_count": 46
        }
      ]
    },
    {
      "cell_type": "code",
      "source": [
        "from sklearn import tree\n",
        "from sklearn.tree import DecisionTreeClassifier\n",
        "#Creating the classifier object:\n",
        "clf_gini = DecisionTreeClassifier(criterion = \"gini\",\n",
        "\t\t\trandom_state = 100,max_depth=5, min_samples_leaf=5)\n",
        "clf_gini.fit(x3_train, y_train)"
      ],
      "metadata": {
        "colab": {
          "base_uri": "https://localhost:8080/"
        },
        "id": "VZbEuzAUZYSK",
        "outputId": "ee6b0e14-c2ef-4c54-e0e1-06aebf5f21d1"
      },
      "execution_count": 47,
      "outputs": [
        {
          "output_type": "execute_result",
          "data": {
            "text/plain": [
              "DecisionTreeClassifier(max_depth=5, min_samples_leaf=5, random_state=100)"
            ]
          },
          "metadata": {},
          "execution_count": 47
        }
      ]
    },
    {
      "cell_type": "code",
      "source": [
        "#y_pred = clf_gini.predict(x3_train)\n",
        "#y_pred1 = clf_gini.predict(x3_test)"
      ],
      "metadata": {
        "id": "dVjQRjs0UeF2"
      },
      "execution_count": 36,
      "outputs": []
    },
    {
      "cell_type": "code",
      "source": [
        "# Fitting Decision Tree Regression to the dataset\n",
        "from sklearn.tree import DecisionTreeRegressor\n",
        "regressor = DecisionTreeRegressor()\n",
        "regressor.fit(x3_train, y_train)\n",
        "y_pred_train = regressor.predict(x3_train)"
      ],
      "metadata": {
        "id": "F48n2ViEdlE8"
      },
      "execution_count": 49,
      "outputs": []
    },
    {
      "cell_type": "code",
      "source": [
        "#confusion matrix\n",
        "from sklearn.metrics import confusion_matrix\n",
        "cm = confusion_matrix(y_train, y_pred_train)\n",
        "print(cm)"
      ],
      "metadata": {
        "colab": {
          "base_uri": "https://localhost:8080/"
        },
        "id": "UE0FurkHeLz1",
        "outputId": "79d4c984-a0d8-4a5d-b61a-2f731e8407b8"
      },
      "execution_count": 50,
      "outputs": [
        {
          "output_type": "stream",
          "name": "stdout",
          "text": [
            "[[50  0  0]\n",
            " [ 0 61  0]\n",
            " [ 0  0 57]]\n"
          ]
        }
      ]
    },
    {
      "cell_type": "code",
      "source": [
        "#confusion matrix\n",
        "from sklearn.metrics import confusion_matrix\n",
        "\n",
        "y_pred_test = regressor.predict(x3_test)\n",
        "\n",
        "cm = confusion_matrix(y_test, y_pred_test)\n",
        "print(cm)"
      ],
      "metadata": {
        "colab": {
          "base_uri": "https://localhost:8080/"
        },
        "id": "BFYXBvZBeb6k",
        "outputId": "b730148d-3e9e-48a4-8f0d-ca2b717529fa"
      },
      "execution_count": 51,
      "outputs": [
        {
          "output_type": "stream",
          "name": "stdout",
          "text": [
            "[[20  0  0]\n",
            " [ 0  9  0]\n",
            " [ 0  0 13]]\n"
          ]
        }
      ]
    },
    {
      "cell_type": "code",
      "source": [
        "from sklearn.metrics import accuracy_score\n",
        "from sklearn.metrics import classification_report\n",
        "print (\"Accuracy : \",accuracy_score(y_test,y_pred_test)*100)\n",
        "\t\n",
        "print(\"Report : \",classification_report(y_test, y_pred_test))"
      ],
      "metadata": {
        "colab": {
          "base_uri": "https://localhost:8080/"
        },
        "id": "NndtQSQcen2A",
        "outputId": "e9b9086b-ddeb-4c1f-f3c9-a6e5983a0fd6"
      },
      "execution_count": 52,
      "outputs": [
        {
          "output_type": "stream",
          "name": "stdout",
          "text": [
            "Accuracy :  100.0\n",
            "Report :                precision    recall  f1-score   support\n",
            "\n",
            "           1       1.00      1.00      1.00        20\n",
            "           2       1.00      1.00      1.00         9\n",
            "           3       1.00      1.00      1.00        13\n",
            "\n",
            "    accuracy                           1.00        42\n",
            "   macro avg       1.00      1.00      1.00        42\n",
            "weighted avg       1.00      1.00      1.00        42\n",
            "\n"
          ]
        }
      ]
    },
    {
      "cell_type": "code",
      "source": [
        "from sklearn.metrics import accuracy_score\n",
        "#Calculate accuracy_score for test:\n",
        "accuracy_score(y_test, y_pred_test)"
      ],
      "metadata": {
        "colab": {
          "base_uri": "https://localhost:8080/"
        },
        "id": "04Gr-tDtb3sQ",
        "outputId": "e06d4ec6-1ea4-477e-e53d-b1eea4e8adf5"
      },
      "execution_count": 54,
      "outputs": [
        {
          "output_type": "execute_result",
          "data": {
            "text/plain": [
              "1.0"
            ]
          },
          "metadata": {},
          "execution_count": 54
        }
      ]
    },
    {
      "cell_type": "markdown",
      "source": [
        "# Average voting"
      ],
      "metadata": {
        "id": "JdbL91oY6ihy"
      }
    },
    {
      "cell_type": "code",
      "source": [
        "y_pred = clf_gini.predict(x3_test)\n",
        "y_pred"
      ],
      "metadata": {
        "colab": {
          "base_uri": "https://localhost:8080/"
        },
        "id": "LhFLMvhugDEq",
        "outputId": "c09b4128-cdc8-4caa-ff82-514214e49ace"
      },
      "execution_count": 57,
      "outputs": [
        {
          "output_type": "execute_result",
          "data": {
            "text/plain": [
              "array([1, 3, 3, 3, 1, 2, 1, 3, 3, 3, 2, 1, 1, 1, 3, 3, 3, 1, 1, 1, 1, 1,\n",
              "       2, 3, 1, 3, 1, 3, 3, 2, 2, 2, 2, 1, 3, 2, 3, 2, 3, 3, 3, 3])"
            ]
          },
          "metadata": {},
          "execution_count": 57
        }
      ]
    },
    {
      "cell_type": "code",
      "source": [
        "print (\"Accuracy : \",accuracy_score(y_test,y_pred)*100)"
      ],
      "metadata": {
        "colab": {
          "base_uri": "https://localhost:8080/"
        },
        "id": "Cljitf3XvD54",
        "outputId": "9228ecec-cc6b-4320-e759-63f944eca427"
      },
      "execution_count": 58,
      "outputs": [
        {
          "output_type": "stream",
          "name": "stdout",
          "text": [
            "Accuracy :  85.71428571428571\n"
          ]
        }
      ]
    },
    {
      "cell_type": "markdown",
      "source": [
        "# Simple Ensemble Techniques\n",
        "\n",
        "In this section, we will look at a few simple but powerful techniques, namely:\n",
        "\n",
        "1 Max Voting\n",
        "\n",
        "2 Averaging\n",
        "\n",
        "3 Weighted Averaging\n",
        "\n",
        "**1 Max Voting**"
      ],
      "metadata": {
        "id": "LZ4hWq91xKhd"
      }
    },
    {
      "cell_type": "code",
      "source": [
        "from sklearn.ensemble import VotingClassifier\n",
        "model1 = LogisticRegression(random_state=1)\n",
        "model2 = tree.DecisionTreeClassifier(random_state=1)\n",
        "model = VotingClassifier(estimators=[('lr',model1), ('dt', model2)], voting='hard')\n",
        "model.fit(x3_train,y_train)\n",
        "Md = model.score(x3_test,y_test)\n",
        "print('The Model Score is :',Md)"
      ],
      "metadata": {
        "colab": {
          "base_uri": "https://localhost:8080/"
        },
        "id": "-SXD3P_OgoVi",
        "outputId": "63eb5fe2-7cce-444e-b06f-0947c1015430"
      },
      "execution_count": 59,
      "outputs": [
        {
          "output_type": "stream",
          "name": "stdout",
          "text": [
            "The Model Score is : 0.9523809523809523\n"
          ]
        }
      ]
    },
    {
      "cell_type": "markdown",
      "source": [
        "**2 Averaging**"
      ],
      "metadata": {
        "id": "d7k00CC1y1-z"
      }
    },
    {
      "cell_type": "code",
      "source": [
        "from sklearn.neighbors import KNeighborsClassifier\n",
        "model1 = tree.DecisionTreeClassifier()\n",
        "model2 = KNeighborsClassifier()\n",
        "model3 = LogisticRegression()\n",
        "\n",
        "model1.fit(x3_train,y_train)\n",
        "model2.fit(x3_train,y_train)\n",
        "model3.fit(x3_train,y_train)\n",
        "\n",
        "pred1 = model1.predict_proba(x3_test)\n",
        "pred2 = model2.predict_proba(x3_test)\n",
        "pred3 = model3.predict_proba(x3_test)\n",
        "\n",
        "finalpred = (pred1 + pred2 + pred3)/3\n",
        "print('The Finalpred is :\\n',finalpred)"
      ],
      "metadata": {
        "colab": {
          "base_uri": "https://localhost:8080/"
        },
        "id": "dASaNfAEg8F-",
        "outputId": "20d3fa3b-3746-4874-f224-5ea871012c9c"
      },
      "execution_count": 60,
      "outputs": [
        {
          "output_type": "stream",
          "name": "stdout",
          "text": [
            "The Finalpred is :\n",
            " [[0.73846998 0.22691687 0.03461315]\n",
            " [0.01878502 0.00709616 0.97411882]\n",
            " [0.66120428 0.11192412 0.2268716 ]\n",
            " [0.1088701  0.01800037 0.87312953]\n",
            " [0.71371613 0.26599778 0.02028609]\n",
            " [0.00642983 0.992432   0.00113818]\n",
            " [0.89457336 0.028941   0.07648563]\n",
            " [0.07117767 0.02243875 0.90638357]\n",
            " [0.76330262 0.01719149 0.21950589]\n",
            " [0.03250699 0.00563284 0.96186017]\n",
            " [0.04974106 0.91728682 0.03297212]\n",
            " [0.91500299 0.07329852 0.01169849]\n",
            " [0.87387284 0.07758998 0.04853718]\n",
            " [0.96656447 0.01995467 0.01348086]\n",
            " [0.8182492  0.00501945 0.17673135]\n",
            " [0.01439073 0.005236   0.98037326]\n",
            " [0.01378723 0.0035872  0.98262557]\n",
            " [0.87002378 0.03810912 0.09186709]\n",
            " [0.8443252  0.0878534  0.06782139]\n",
            " [0.86566015 0.08823013 0.04610971]\n",
            " [0.89299458 0.07580585 0.03119957]\n",
            " [0.83872256 0.08770071 0.07357673]\n",
            " [0.04898772 0.93270143 0.01831085]\n",
            " [0.03001472 0.00350739 0.9664779 ]\n",
            " [0.87862746 0.04892131 0.07245122]\n",
            " [0.04083234 0.01966701 0.93950066]\n",
            " [0.9185583  0.02928437 0.05215733]\n",
            " [0.01019029 0.00502446 0.98478526]\n",
            " [0.40639399 0.03142269 0.56218332]\n",
            " [0.02765689 0.97064293 0.00170017]\n",
            " [0.05966043 0.93491872 0.00542086]\n",
            " [0.02266537 0.97364664 0.00368799]\n",
            " [0.06804966 0.92604044 0.0059099 ]\n",
            " [0.88661227 0.0410249  0.07236283]\n",
            " [0.80841707 0.12061855 0.07096438]\n",
            " [0.04536994 0.94856889 0.00606117]\n",
            " [0.02031554 0.00610504 0.97357941]\n",
            " [0.00634519 0.99191269 0.00174212]\n",
            " [0.70581555 0.01238122 0.28180324]\n",
            " [0.0549452  0.00499656 0.94005824]\n",
            " [0.75902927 0.01087357 0.23009715]\n",
            " [0.06656123 0.02310038 0.9103384 ]]\n"
          ]
        }
      ]
    },
    {
      "cell_type": "code",
      "source": [
        "models = [('Decision Tree', DecisionTreeClassifier()),\n",
        "         ('KNN', KNeighborsClassifier()),\n",
        "         ('Naive Bayes', GaussianNB())]\n",
        "for name, model in models:\n",
        "    model.fit(x3_train, y_train)\n",
        "    \n",
        "    prediction = model.predict(x3_test)\n",
        "    score = accuracy_score(y_test, prediction)\n",
        "    print('{} Model Accuracy: {}'.format(name,score))"
      ],
      "metadata": {
        "colab": {
          "base_uri": "https://localhost:8080/"
        },
        "id": "iB3fddi8haIj",
        "outputId": "a04ec823-c367-4ab3-ec97-3f543dc01122"
      },
      "execution_count": 61,
      "outputs": [
        {
          "output_type": "stream",
          "name": "stdout",
          "text": [
            "Decision Tree Model Accuracy: 0.8809523809523809\n",
            "KNN Model Accuracy: 0.9761904761904762\n",
            "Naive Bayes Model Accuracy: 0.9285714285714286\n"
          ]
        }
      ]
    },
    {
      "cell_type": "code",
      "source": [
        "ensemble = VotingClassifier(estimators=models)\n",
        "ensemble.fit(x3_train, y_train)\n",
        "prediction = ensemble.predict(x3_test)\n",
        "score = accuracy_score(y_test, prediction)\n",
        "print('Ensemble Model Accuracy: {}'.format(score))"
      ],
      "metadata": {
        "colab": {
          "base_uri": "https://localhost:8080/"
        },
        "id": "Ow7LVlPthsx2",
        "outputId": "cddca2c6-3679-46d9-829d-3063b5b7714e"
      },
      "execution_count": 62,
      "outputs": [
        {
          "output_type": "stream",
          "name": "stdout",
          "text": [
            "Ensemble Model Accuracy: 0.9285714285714286\n"
          ]
        }
      ]
    },
    {
      "cell_type": "markdown",
      "source": [
        "**3 Weighted Average**"
      ],
      "metadata": {
        "id": "ETT-dL6Ph5_0"
      }
    },
    {
      "cell_type": "code",
      "source": [
        "model1 = tree.DecisionTreeClassifier()\n",
        "model2 = KNeighborsClassifier()\n",
        "model3 = LogisticRegression()\n",
        "\n",
        "model1.fit(x3_train,y_train)\n",
        "model2.fit(x3_train,y_train)\n",
        "model3.fit(x3_train,y_train)\n",
        "\n",
        "pred1 = model1.predict_proba(x3_test)\n",
        "pred2 = model2.predict_proba(x3_test)\n",
        "prad3 = model3.predict_proba(x3_test)\n",
        "\n",
        "finalpred = (pred1*0.3 + pred2*0.4 + pred3*0.3)\n",
        "print('The Finalpred is:\\n',finalpred)"
      ],
      "metadata": {
        "colab": {
          "base_uri": "https://localhost:8080/"
        },
        "id": "7eqHiyfxiDHD",
        "outputId": "0f79a086-0fed-4b12-ed12-a032da36a77d"
      },
      "execution_count": 63,
      "outputs": [
        {
          "output_type": "stream",
          "name": "stdout",
          "text": [
            "The Finalpred is:\n",
            " [[0.42462298 0.54422518 0.03115184]\n",
            " [0.01690651 0.00638655 0.97670694]\n",
            " [0.65508385 0.10073171 0.24418444]\n",
            " [0.09798309 0.01620033 0.88581658]\n",
            " [0.40234452 0.579398   0.01825748]\n",
            " [0.00578685 0.9931888  0.00102436]\n",
            " [0.90511603 0.0260469  0.06883707]\n",
            " [0.06405991 0.02019488 0.91574522]\n",
            " [0.76697236 0.01547234 0.2175553 ]\n",
            " [0.02925629 0.00506956 0.96567415]\n",
            " [0.04476695 0.92555814 0.02967491]\n",
            " [0.62350269 0.36596867 0.01052864]\n",
            " [0.88648556 0.06983098 0.04368346]\n",
            " [0.96990802 0.0179592  0.01213278]\n",
            " [0.81642428 0.00451751 0.17905822]\n",
            " [0.01295166 0.0047124  0.98233594]\n",
            " [0.01240851 0.00322848 0.98436301]\n",
            " [0.88302141 0.03429821 0.08268039]\n",
            " [0.85989268 0.07906806 0.06103925]\n",
            " [0.87909414 0.07940712 0.04149874]\n",
            " [0.90369512 0.06822526 0.02807962]\n",
            " [0.8548503  0.07893064 0.06621906]\n",
            " [0.04408895 0.93943129 0.01647977]\n",
            " [0.02701324 0.00315665 0.96983011]\n",
            " [0.89076472 0.04402918 0.0652061 ]\n",
            " [0.0367491  0.01770031 0.94555059]\n",
            " [0.92670247 0.02635593 0.0469416 ]\n",
            " [0.00917126 0.00452201 0.98630673]\n",
            " [0.44575459 0.02828042 0.52596499]\n",
            " [0.0248912  0.97357864 0.00153016]\n",
            " [0.05369439 0.94142684 0.00487877]\n",
            " [0.02039884 0.97628197 0.00331919]\n",
            " [0.0612447  0.9334364  0.00531891]\n",
            " [0.89795104 0.03692241 0.06512655]\n",
            " [0.80757536 0.12855669 0.06386794]\n",
            " [0.04083295 0.953712   0.00545505]\n",
            " [0.01828399 0.00549454 0.97622147]\n",
            " [0.00571067 0.99272142 0.00156791]\n",
            " [0.69523399 0.0111431  0.29362291]\n",
            " [0.04945068 0.00449691 0.94605241]\n",
            " [0.74312634 0.00978622 0.24708744]\n",
            " [0.0599051  0.02079034 0.91930456]]\n"
          ]
        }
      ]
    },
    {
      "cell_type": "code",
      "source": [
        "# get a list of base models\n",
        "def get_models():\n",
        "\tmodels = list()\n",
        "\tmodels.append(('lr', LogisticRegression()))\n",
        "\tmodels.append(('cart', DecisionTreeClassifier()))\n",
        "\tmodels.append(('bayes', GaussianNB()))\n",
        "\treturn models\n",
        " \n",
        "# evaluate each base model\n",
        "def evaluate_models(models, x3_train, x3_test, y_train, y_test):\n",
        "\t# fit and evaluate the models\n",
        "\tscores = list()\n",
        "\tfor name, model in models:\n",
        "\t\t# fit the model\n",
        "\t\tmodel.fit(x3_train, y_train)\n",
        "\t\t# evaluate the model\n",
        "\t\ty_pred = model.predict(x3_test)\n",
        "\t\tacc = accuracy_score(y_test, y_pred)\n",
        "\t\t# store the performance\n",
        "\t\tscores.append(acc)\n",
        "\t\t# report model performance\n",
        "\treturn scores\n",
        "\n",
        "# create the base models\n",
        "models = get_models()\n",
        " \n",
        "# fit and evaluate each model\n",
        "scores = evaluate_models(models, x3_train, x3_test, y_train, y_test)\n",
        "print(scores)\n",
        "# create the ensemble\n",
        "ensemble = VotingClassifier(estimators=models, voting='soft', weights=scores)\n",
        "# fit the ensemble on the training dataset\n",
        "ensemble.fit(x3_train, y_train)\n",
        "# make predictions on test set\n",
        "y_pred = ensemble.predict(x3_test)\n",
        "# evaluate predictions\n",
        "score = accuracy_score(y_test, y_pred)\n",
        "print('Weighted Avg Accuracy: %.3f' % (score))"
      ],
      "metadata": {
        "colab": {
          "base_uri": "https://localhost:8080/"
        },
        "id": "Wnzq2oNjiwzq",
        "outputId": "ca3b7c9b-2264-49ca-ba4a-e9eb2a92feb3"
      },
      "execution_count": 64,
      "outputs": [
        {
          "output_type": "stream",
          "name": "stdout",
          "text": [
            "[0.9523809523809523, 0.9285714285714286, 0.9285714285714286]\n",
            "Weighted Avg Accuracy: 0.929\n"
          ]
        }
      ]
    },
    {
      "cell_type": "markdown",
      "source": [
        "# Stacking\n"
      ],
      "metadata": {
        "id": "L6c00vsvl522"
      }
    },
    {
      "cell_type": "markdown",
      "source": [
        "**For KNN**"
      ],
      "metadata": {
        "id": "wdM6WvrlqEf6"
      }
    },
    {
      "cell_type": "code",
      "source": [
        "KNN = KNeighborsClassifier() \n",
        "NB = GaussianNB()"
      ],
      "metadata": {
        "id": "rKyB2mlziwrQ"
      },
      "execution_count": 65,
      "outputs": []
    },
    {
      "cell_type": "code",
      "source": [
        "model_kNeighborsClassifier = KNN.fit(x3_train, y_train)   \n",
        "pred_knn = model_kNeighborsClassifier.predict(x3_test)"
      ],
      "metadata": {
        "id": "729jP9GVCBs2"
      },
      "execution_count": 67,
      "outputs": []
    },
    {
      "cell_type": "code",
      "source": [
        "acc_knn = accuracy_score(y_test, pred_knn) \n",
        "print('accuracy score of KNeighbors Classifier is:', acc_knn * 100)"
      ],
      "metadata": {
        "colab": {
          "base_uri": "https://localhost:8080/"
        },
        "id": "zqnSv8chptQx",
        "outputId": "c44f0d97-5a1b-4871-b994-d19c777fc27e"
      },
      "execution_count": 68,
      "outputs": [
        {
          "output_type": "stream",
          "name": "stdout",
          "text": [
            "accuracy score of KNeighbors Classifier is: 97.61904761904762\n"
          ]
        }
      ]
    },
    {
      "cell_type": "markdown",
      "source": [
        "**For Naive Bayes**"
      ],
      "metadata": {
        "id": "pLbx2hsAqHYV"
      }
    },
    {
      "cell_type": "code",
      "source": [
        "model_NaiveBayes = NB.fit(x3_train, y_train)\n",
        "pred_nb = model_NaiveBayes.predict(x3_test)"
      ],
      "metadata": {
        "id": "qcj85nf9p3PC"
      },
      "execution_count": 69,
      "outputs": []
    },
    {
      "cell_type": "code",
      "source": [
        "acc_nb = accuracy_score(y_test, pred_nb)\n",
        "print('Accuracy of Naive Bayes Classifier:', acc_nb * 100)"
      ],
      "metadata": {
        "colab": {
          "base_uri": "https://localhost:8080/"
        },
        "id": "l3fwYj9AqXUL",
        "outputId": "aeae9463-668b-43ca-c3e5-5241813f8b46"
      },
      "execution_count": 70,
      "outputs": [
        {
          "output_type": "stream",
          "name": "stdout",
          "text": [
            "Accuracy of Naive Bayes Classifier: 92.85714285714286\n"
          ]
        }
      ]
    },
    {
      "cell_type": "code",
      "source": [
        ""
      ],
      "metadata": {
        "id": "oIc6aWTHqccj"
      },
      "execution_count": null,
      "outputs": []
    }
  ]
}